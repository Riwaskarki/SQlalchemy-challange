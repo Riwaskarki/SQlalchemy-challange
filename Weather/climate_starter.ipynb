{
 "cells": [
  {
   "cell_type": "code",
   "execution_count": 1,
   "metadata": {},
   "outputs": [],
   "source": [
    "%matplotlib inline\n",
    "from matplotlib import style\n",
    "style.use('fivethirtyeight')\n",
    "import matplotlib.pyplot as plt\n"
   ]
  },
  {
   "cell_type": "code",
   "execution_count": 2,
   "metadata": {},
   "outputs": [],
   "source": [
    "import numpy as np\n",
    "import pandas as pd\n",
    "import datetime as dt\n"
   ]
  },
  {
   "cell_type": "markdown",
   "metadata": {},
   "source": [
    "# Reflect Tables into SQLAlchemy ORM"
   ]
  },
  {
   "cell_type": "code",
   "execution_count": 3,
   "metadata": {},
   "outputs": [],
   "source": [
    "# Python SQL toolkit and Object Relational Mapper\n",
    "import sqlalchemy\n",
    "from sqlalchemy.ext.automap import automap_base\n",
    "from sqlalchemy.orm import Session\n",
    "from sqlalchemy import create_engine, func\n"
   ]
  },
  {
   "cell_type": "code",
   "execution_count": 5,
   "metadata": {},
   "outputs": [],
   "source": [
    "# Create engine using the `hawaii.sqlite` database file\n",
    "engine = create_engine(\"sqlite:///Resources/hawaii.sqlite\")\n"
   ]
  },
  {
   "cell_type": "code",
   "execution_count": 6,
   "metadata": {},
   "outputs": [
    {
     "name": "stderr",
     "output_type": "stream",
     "text": [
      "C:\\Users\\karki\\AppData\\Local\\Temp\\ipykernel_17120\\3348060543.py:3: SADeprecationWarning: The AutomapBase.prepare.reflect parameter is deprecated and will be removed in a future release.  Reflection is enabled when AutomapBase.prepare.autoload_with is passed.\n",
      "  Base.prepare(engine, reflect=True)\n"
     ]
    }
   ],
   "source": [
    "# Declare a Base using `automap_base()`\n",
    "Base = automap_base()\n",
    "Base.prepare(engine, reflect=True)\n",
    "\n",
    "# Use the Base class to reflect the database tables\n"
   ]
  },
  {
   "cell_type": "code",
   "execution_count": 8,
   "metadata": {},
   "outputs": [
    {
     "data": {
      "text/plain": [
       "sqlalchemy.ext.automap.measurement"
      ]
     },
     "execution_count": 8,
     "metadata": {},
     "output_type": "execute_result"
    }
   ],
   "source": [
    "# Print all of the classes mapped to the Base\n",
    "Station = Base.classes.station\n",
    "Station\n",
    "Measurement = Base.classes.measurement\n",
    "Measurement"
   ]
  },
  {
   "cell_type": "code",
   "execution_count": 7,
   "metadata": {},
   "outputs": [],
   "source": [
    "# Assign the measurement class to a variable called `Measurement` and\n",
    "# assign the station class to a variable called `Station`\n"
   ]
  },
  {
   "cell_type": "code",
   "execution_count": 9,
   "metadata": {},
   "outputs": [],
   "source": [
    "# Create a session\n",
    "session = Session(engine)"
   ]
  },
  {
   "cell_type": "markdown",
   "metadata": {},
   "source": [
    "# Exploratory Precipitation Analysis"
   ]
  },
  {
   "cell_type": "code",
   "execution_count": 11,
   "metadata": {},
   "outputs": [],
   "source": [
    "# Find the most recent date in the data set.\n",
    "most_recent_date = session.query(Measurement.date).order_by(Measurement.date.desc()).first()\n",
    "most_recent_date = most_recent_date[0]"
   ]
  },
  {
   "cell_type": "code",
   "execution_count": 13,
   "metadata": {},
   "outputs": [
    {
     "data": {
      "text/plain": [
       "'2017-08-23'"
      ]
     },
     "execution_count": 13,
     "metadata": {},
     "output_type": "execute_result"
    }
   ],
   "source": [
    "most_recent_date"
   ]
  },
  {
   "cell_type": "code",
   "execution_count": 21,
   "metadata": {},
   "outputs": [
    {
     "data": {
      "text/html": [
       "<div>\n",
       "<style scoped>\n",
       "    .dataframe tbody tr th:only-of-type {\n",
       "        vertical-align: middle;\n",
       "    }\n",
       "\n",
       "    .dataframe tbody tr th {\n",
       "        vertical-align: top;\n",
       "    }\n",
       "\n",
       "    .dataframe thead th {\n",
       "        text-align: right;\n",
       "    }\n",
       "</style>\n",
       "<table border=\"1\" class=\"dataframe\">\n",
       "  <thead>\n",
       "    <tr style=\"text-align: right;\">\n",
       "      <th></th>\n",
       "      <th>date</th>\n",
       "      <th>precipitation</th>\n",
       "    </tr>\n",
       "  </thead>\n",
       "  <tbody>\n",
       "    <tr>\n",
       "      <th>0</th>\n",
       "      <td>2016-08-23</td>\n",
       "      <td>0.0</td>\n",
       "    </tr>\n",
       "    <tr>\n",
       "      <th>1009</th>\n",
       "      <td>2016-08-23</td>\n",
       "      <td>NaN</td>\n",
       "    </tr>\n",
       "    <tr>\n",
       "      <th>1529</th>\n",
       "      <td>2016-08-23</td>\n",
       "      <td>45.5</td>\n",
       "    </tr>\n",
       "    <tr>\n",
       "      <th>704</th>\n",
       "      <td>2016-08-23</td>\n",
       "      <td>1.3</td>\n",
       "    </tr>\n",
       "    <tr>\n",
       "      <th>361</th>\n",
       "      <td>2016-08-23</td>\n",
       "      <td>3.8</td>\n",
       "    </tr>\n",
       "  </tbody>\n",
       "</table>\n",
       "</div>"
      ],
      "text/plain": [
       "            date  precipitation\n",
       "0     2016-08-23            0.0\n",
       "1009  2016-08-23            NaN\n",
       "1529  2016-08-23           45.5\n",
       "704   2016-08-23            1.3\n",
       "361   2016-08-23            3.8"
      ]
     },
     "execution_count": 21,
     "metadata": {},
     "output_type": "execute_result"
    }
   ],
   "source": [
    "# Design a query to retrieve the last 12 months of precipitation data and plot the results.\n",
    "# Starting from the most recent data point in the database.\n",
    "# Calculate the date one year from the last date in data set.\n",
    "# Perform a query to retrieve the data and precipitation scores\n",
    "last_year_data = session.query(Measurement.date, Measurement.prcp).filter(Measurement.date >= '2016-08-23').all()\n",
    "last_year_data\n",
    "\n",
    "# Save the query results as a Pandas DataFrame. Explicitly set the column names\n",
    "df_last_year = pd.DataFrame(last_year_data, columns=['date', 'precipitation'])\n",
    "\n",
    "# Sort the dataframe by date\n",
    "df_last_year = df_last_year.sort_values('date')\n",
    "df_last_year.head()\n",
    "\n"
   ]
  },
  {
   "cell_type": "code",
   "execution_count": 22,
   "metadata": {},
   "outputs": [
    {
     "data": {
      "image/png": "[encoded data removed]",
      "text/plain": [
       "<Figure size 1000x500 with 1 Axes>"
      ]
     },
     "metadata": {},
     "output_type": "display_data"
    }
   ],
   "source": [
    "# Use Pandas Plotting with Matplotlib to plot the data\n",
    "df_last_year.plot(x='date', y='precipitation', title='Precipitation Over the Last Year', figsize=(10, 5), legend=False)\n",
    "plt.xlabel('Date')\n",
    "plt.ylabel('Precipitation')\n",
    "plt.xticks(rotation=45)\n",
    "plt.tight_layout()\n",
    "plt.show()"
   ]
  },
  {
   "cell_type": "code",
   "execution_count": null,
   "metadata": {},
   "outputs": [],
   "source": []
  },
  {
   "cell_type": "code",
   "execution_count": 26,
   "metadata": {},
   "outputs": [
    {
     "name": "stdout",
     "output_type": "stream",
     "text": [
      "count    2021.0\n",
      "mean        4.5\n",
      "std        11.7\n",
      "min         0.0\n",
      "25%         0.0\n",
      "50%         0.5\n",
      "75%         3.3\n",
      "max       170.2\n",
      "Name: precipitation, dtype: float64\n"
     ]
    }
   ],
   "source": [
    "# Use Pandas to calculate the summary statistics for the precipitation data\n",
    "precipitation_summary = df_last_year['precipitation'].describe().round(1)\n",
    "print(precipitation_summary)"
   ]
  },
  {
   "cell_type": "code",
   "execution_count": null,
   "metadata": {},
   "outputs": [],
   "source": [
    "session.close()"
   ]
  },
  {
   "cell_type": "markdown",
   "metadata": {},
   "source": [
    "# Exploratory Station Analysis"
   ]
  },
  {
   "cell_type": "code",
   "execution_count": 28,
   "metadata": {},
   "outputs": [
    {
     "name": "stdout",
     "output_type": "stream",
     "text": [
      "Total stations: 9\n"
     ]
    }
   ],
   "source": [
    "# Design a query to calculate the total number of stations in the dataset\n",
    "num_stations = session.query(Station).count()\n",
    "print(f'Total stations: {num_stations}')"
   ]
  },
  {
   "cell_type": "code",
   "execution_count": 29,
   "metadata": {},
   "outputs": [
    {
     "data": {
      "text/plain": [
       "[('USC00519281', 2772),\n",
       " ('USC00519397', 2724),\n",
       " ('USC00513117', 2709),\n",
       " ('USC00519523', 2669),\n",
       " ('USC00516128', 2612),\n",
       " ('USC00514830', 2202),\n",
       " ('USC00511918', 1979),\n",
       " ('USC00517948', 1372),\n",
       " ('USC00518838', 511)]"
      ]
     },
     "execution_count": 29,
     "metadata": {},
     "output_type": "execute_result"
    }
   ],
   "source": [
    "# List the stations and their counts in descending order.\n",
    "station_activity = session.query(Measurement.station, func.count(Measurement.station))\\\n",
    "                          .group_by(Measurement.station)\\\n",
    "                          .order_by(func.count(Measurement.station).desc()).all()\n",
    "station_activity"
   ]
  },
  {
   "cell_type": "code",
   "execution_count": 31,
   "metadata": {},
   "outputs": [
    {
     "data": {
      "text/plain": [
       "'USC00519281'"
      ]
     },
     "execution_count": 31,
     "metadata": {},
     "output_type": "execute_result"
    }
   ],
   "source": [
    "# Design a query to find the most active stations (i.e. which stations have the most rows?)\n",
    "most_active_station = station_activity[0][0]\n",
    "most_active_station"
   ]
  },
  {
   "cell_type": "code",
   "execution_count": 32,
   "metadata": {},
   "outputs": [
    {
     "name": "stdout",
     "output_type": "stream",
     "text": [
      "Min temperature: 12.2, Max temperature: 29.4, Avg temperature: 22.04\n"
     ]
    }
   ],
   "source": [
    "# Using the most active station id from the previous query, calculate the lowest, highest, and average temperature.\n",
    "temperature_stats = session.query(func.min(Measurement.tobs), \n",
    "                                  func.max(Measurement.tobs), \n",
    "                                  func.avg(Measurement.tobs))\\\n",
    "                           .filter(Measurement.station == most_active_station).all()\n",
    "min_temp, max_temp, avg_temp = temperature_stats[0]\n",
    "print(f'Min temperature: {min_temp}, Max temperature: {max_temp}, Avg temperature: {avg_temp:.2f}')"
   ]
  },
  {
   "cell_type": "code",
   "execution_count": 36,
   "metadata": {},
   "outputs": [
    {
     "data": {
      "text/plain": [
       "[('2016-08-23', 25.0),\n",
       " ('2016-08-24', 25.0),\n",
       " ('2016-08-25', 26.7),\n",
       " ('2016-08-26', 26.7),\n",
       " ('2016-08-27', 23.9),\n",
       " ('2016-08-28', 22.8),\n",
       " ('2016-08-29', 25.6),\n",
       " ('2016-08-30', 25.0),\n",
       " ('2016-08-31', 25.6),\n",
       " ('2016-09-01', 26.7),\n",
       " ('2016-09-02', 26.7),\n",
       " ('2016-09-03', 25.6),\n",
       " ('2016-09-04', 25.6),\n",
       " ('2016-09-05', 25.6),\n",
       " ('2016-09-06', 22.8),\n",
       " ('2016-09-07', 23.3),\n",
       " ('2016-09-08', 26.7),\n",
       " ('2016-09-09', 26.1),\n",
       " ('2016-09-10', 25.0),\n",
       " ('2016-09-11', 26.7),\n",
       " ('2016-09-12', 24.4),\n",
       " ('2016-09-13', 26.1),\n",
       " ('2016-09-14', 23.9),\n",
       " ('2016-09-15', 26.1),\n",
       " ('2016-09-16', 25.6),\n",
       " ('2016-09-17', 26.1),\n",
       " ('2016-09-18', 25.6),\n",
       " ('2016-09-19', 25.6),\n",
       " ('2016-09-20', 24.4),\n",
       " ('2016-09-21', 23.3),\n",
       " ('2016-09-22', 25.0),\n",
       " ('2016-09-23', 25.6),\n",
       " ('2016-09-24', 26.1),\n",
       " ('2016-09-25', 26.1),\n",
       " ('2016-09-26', 25.0),\n",
       " ('2016-09-27', 26.7),\n",
       " ('2016-09-28', 25.6),\n",
       " ('2016-09-29', 25.6),\n",
       " ('2016-09-30', 25.6),\n",
       " ('2016-10-01', 25.0),\n",
       " ('2016-10-02', 26.1),\n",
       " ('2016-10-03', 26.1),\n",
       " ('2016-10-04', 26.1),\n",
       " ('2016-10-05', 26.1),\n",
       " ('2016-10-06', 23.9),\n",
       " ('2016-10-07', 24.4),\n",
       " ('2016-10-08', 22.8),\n",
       " ('2016-10-09', 22.2),\n",
       " ('2016-10-10', 21.7),\n",
       " ('2016-10-11', 25.0),\n",
       " ('2016-10-12', 26.1),\n",
       " ('2016-10-13', 25.6),\n",
       " ('2016-10-14', 26.1),\n",
       " ('2016-10-15', 25.0),\n",
       " ('2016-10-16', 26.1),\n",
       " ('2016-10-17', 25.0),\n",
       " ('2016-10-18', 25.6),\n",
       " ('2016-10-19', 25.6),\n",
       " ('2016-10-20', 25.6),\n",
       " ('2016-10-21', 25.6),\n",
       " ('2016-10-22', 25.0),\n",
       " ('2016-10-23', 23.3),\n",
       " ('2016-10-24', 23.9),\n",
       " ('2016-10-25', 24.4),\n",
       " ('2016-10-26', 22.8),\n",
       " ('2016-10-27', 24.4),\n",
       " ('2016-10-28', 23.3),\n",
       " ('2016-10-29', 25.0),\n",
       " ('2016-10-30', 24.4),\n",
       " ('2016-10-31', 24.4),\n",
       " ('2016-11-01', 23.3),\n",
       " ('2016-11-02', 23.9),\n",
       " ('2016-11-03', 23.9),\n",
       " ('2016-11-04', 23.9),\n",
       " ('2016-11-05', 23.9),\n",
       " ('2016-11-06', 21.7),\n",
       " ('2016-11-07', 17.2),\n",
       " ('2016-11-08', 21.1),\n",
       " ('2016-11-09', 20.0),\n",
       " ('2016-11-10', 19.4),\n",
       " ('2016-11-11', 25.0),\n",
       " ('2016-11-12', 23.3),\n",
       " ('2016-11-13', 25.0),\n",
       " ('2016-11-14', 24.4),\n",
       " ('2016-11-15', 24.4),\n",
       " ('2016-11-16', 23.9),\n",
       " ('2016-11-17', 24.4),\n",
       " ('2016-11-18', 23.9),\n",
       " ('2016-11-19', 22.8),\n",
       " ('2016-11-20', 23.9),\n",
       " ('2016-11-21', 22.8),\n",
       " ('2016-11-22', 23.9),\n",
       " ('2016-11-23', 23.3),\n",
       " ('2016-11-24', 23.9),\n",
       " ('2016-11-25', 23.3),\n",
       " ('2016-11-26', 23.9),\n",
       " ('2016-11-27', 22.8),\n",
       " ('2016-11-28', 23.9),\n",
       " ('2016-11-29', 22.8),\n",
       " ('2016-11-30', 22.8),\n",
       " ('2016-12-01', 23.3),\n",
       " ('2016-12-02', 21.1),\n",
       " ('2016-12-03', 22.2),\n",
       " ('2016-12-04', 21.1),\n",
       " ('2016-12-05', 19.4),\n",
       " ('2016-12-06', 19.4),\n",
       " ('2016-12-07', 20.6),\n",
       " ('2016-12-08', 21.1),\n",
       " ('2016-12-09', 20.0),\n",
       " ('2016-12-10', 20.6),\n",
       " ('2016-12-11', 20.6),\n",
       " ('2016-12-12', 18.9),\n",
       " ('2016-12-13', 18.3),\n",
       " ('2016-12-14', 20.0),\n",
       " ('2016-12-15', 16.7),\n",
       " ('2016-12-16', 23.9),\n",
       " ('2016-12-17', 21.1),\n",
       " ('2016-12-18', 20.6),\n",
       " ('2016-12-19', 24.4),\n",
       " ('2016-12-20', 24.4),\n",
       " ('2016-12-21', 23.3),\n",
       " ('2016-12-22', 22.8),\n",
       " ('2016-12-23', 21.7),\n",
       " ('2016-12-24', 23.3),\n",
       " ('2016-12-25', 23.3),\n",
       " ('2016-12-26', 22.2),\n",
       " ('2016-12-27', 21.7),\n",
       " ('2016-12-28', 22.2),\n",
       " ('2016-12-29', 23.3),\n",
       " ('2016-12-30', 20.6),\n",
       " ('2016-12-31', 19.4),\n",
       " ('2017-01-01', 22.2),\n",
       " ('2017-01-02', 21.1),\n",
       " ('2017-01-03', 17.8),\n",
       " ('2017-01-04', 17.2),\n",
       " ('2017-01-05', 17.2),\n",
       " ('2017-01-06', 16.7),\n",
       " ('2017-01-07', 21.1),\n",
       " ('2017-01-08', 21.1),\n",
       " ('2017-01-09', 16.7),\n",
       " ('2017-01-10', 16.7),\n",
       " ('2017-01-11', 17.2),\n",
       " ('2017-01-12', 18.3),\n",
       " ('2017-01-13', 20.6),\n",
       " ('2017-01-14', 25.0),\n",
       " ('2017-01-15', 21.1),\n",
       " ('2017-01-16', 23.3),\n",
       " ('2017-01-17', 20.6),\n",
       " ('2017-01-18', 22.2),\n",
       " ('2017-01-19', 21.7),\n",
       " ('2017-01-20', 20.6),\n",
       " ('2017-01-21', 21.7),\n",
       " ('2017-01-22', 21.7),\n",
       " ('2017-01-23', 22.2),\n",
       " ('2017-01-24', 22.2),\n",
       " ('2017-01-25', 20.6),\n",
       " ('2017-01-26', 21.1),\n",
       " ('2017-01-27', 18.9),\n",
       " ('2017-01-28', 18.3),\n",
       " ('2017-01-29', 20.6),\n",
       " ('2017-01-30', 20.0),\n",
       " ('2017-01-31', 20.0),\n",
       " ('2017-02-01', 20.0),\n",
       " ('2017-02-02', 15.0),\n",
       " ('2017-02-03', 15.6),\n",
       " ('2017-02-04', 21.1),\n",
       " ('2017-02-05', 22.8),\n",
       " ('2017-02-06', 23.9),\n",
       " ('2017-02-07', 17.8),\n",
       " ('2017-02-08', 15.0),\n",
       " ('2017-02-09', 15.0),\n",
       " ('2017-02-10', 16.7),\n",
       " ('2017-02-11', 20.0),\n",
       " ('2017-02-12', 21.1),\n",
       " ('2017-02-13', 22.8),\n",
       " ('2017-02-14', 26.1),\n",
       " ('2017-02-15', 23.9),\n",
       " ('2017-02-16', 18.3),\n",
       " ('2017-02-17', 21.1),\n",
       " ('2017-02-18', 23.3),\n",
       " ('2017-02-19', 21.1),\n",
       " ('2017-02-20', 21.1),\n",
       " ('2017-02-21', 21.7),\n",
       " ('2017-02-22', 21.7),\n",
       " ('2017-02-23', 21.7),\n",
       " ('2017-02-24', 20.6),\n",
       " ('2017-02-25', 16.1),\n",
       " ('2017-02-26', 19.4),\n",
       " ('2017-02-27', 18.3),\n",
       " ('2017-02-28', 22.2),\n",
       " ('2017-03-01', 21.7),\n",
       " ('2017-03-02', 22.8),\n",
       " ('2017-03-03', 22.2),\n",
       " ('2017-03-04', 25.0),\n",
       " ('2017-03-05', 22.8),\n",
       " ('2017-03-06', 19.4),\n",
       " ('2017-03-07', 16.7),\n",
       " ('2017-03-08', 17.8),\n",
       " ('2017-03-09', 19.4),\n",
       " ('2017-03-10', 18.9),\n",
       " ('2017-03-11', 27.2),\n",
       " ('2017-03-12', 20.6),\n",
       " ('2017-03-13', 18.9),\n",
       " ('2017-03-14', 19.4),\n",
       " ('2017-03-15', 20.6),\n",
       " ('2017-03-16', 18.9),\n",
       " ('2017-03-17', 20.0),\n",
       " ('2017-03-18', 18.3),\n",
       " ('2017-03-19', 23.3),\n",
       " ('2017-03-20', 20.6),\n",
       " ('2017-03-21', 22.2),\n",
       " ('2017-03-22', 22.8),\n",
       " ('2017-03-23', 22.2),\n",
       " ('2017-03-24', 21.7),\n",
       " ('2017-03-25', 24.4),\n",
       " ('2017-03-26', 25.0),\n",
       " ('2017-03-27', 24.4),\n",
       " ('2017-03-28', 23.3),\n",
       " ('2017-03-29', 20.0),\n",
       " ('2017-03-30', 22.8),\n",
       " ('2017-03-31', 21.7),\n",
       " ('2017-04-01', 23.3),\n",
       " ('2017-04-02', 23.9),\n",
       " ('2017-04-03', 21.1),\n",
       " ('2017-04-04', 19.4),\n",
       " ('2017-04-05', 21.7),\n",
       " ('2017-04-06', 19.4),\n",
       " ('2017-04-07', 23.3),\n",
       " ('2017-04-08', 25.0),\n",
       " ('2017-04-09', 25.6),\n",
       " ('2017-04-10', 19.4),\n",
       " ('2017-04-11', 21.1),\n",
       " ('2017-04-12', 20.6),\n",
       " ('2017-04-13', 20.6),\n",
       " ('2017-04-14', 23.3),\n",
       " ('2017-04-15', 25.6),\n",
       " ('2017-04-16', 21.7),\n",
       " ('2017-04-17', 19.4),\n",
       " ('2017-04-18', 20.0),\n",
       " ('2017-04-19', 19.4),\n",
       " ('2017-04-20', 24.4),\n",
       " ('2017-04-21', 20.6),\n",
       " ('2017-04-22', 22.2),\n",
       " ('2017-04-23', 24.4),\n",
       " ('2017-04-24', 20.0),\n",
       " ('2017-04-25', 22.2),\n",
       " ('2017-04-26', 23.3),\n",
       " ('2017-04-27', 21.1),\n",
       " ('2017-04-28', 19.4),\n",
       " ('2017-04-29', 22.2),\n",
       " ('2017-04-30', 15.6),\n",
       " ('2017-05-01', 18.3),\n",
       " ('2017-05-02', 23.9),\n",
       " ('2017-05-03', 21.1),\n",
       " ('2017-05-04', 23.9),\n",
       " ('2017-05-05', 21.1),\n",
       " ('2017-05-06', 26.1),\n",
       " ('2017-05-07', 23.9),\n",
       " ('2017-05-08', 21.1),\n",
       " ('2017-05-09', 19.4),\n",
       " ('2017-05-10', 23.3),\n",
       " ('2017-05-11', 21.1),\n",
       " ('2017-05-12', 23.9),\n",
       " ('2017-05-13', 24.4),\n",
       " ('2017-05-14', 25.0),\n",
       " ('2017-05-15', 23.3),\n",
       " ('2017-05-16', 23.3),\n",
       " ('2017-05-17', 23.3),\n",
       " ('2017-05-18', 20.6),\n",
       " ('2017-05-19', 20.0),\n",
       " ('2017-05-20', 24.4),\n",
       " ('2017-05-21', 23.3),\n",
       " ('2017-05-22', 21.7),\n",
       " ('2017-05-23', 21.7),\n",
       " ('2017-05-24', 23.3),\n",
       " ('2017-05-25', 23.3),\n",
       " ('2017-05-26', 23.3),\n",
       " ('2017-05-27', 23.3),\n",
       " ('2017-05-28', 26.7),\n",
       " ('2017-05-29', 23.3),\n",
       " ('2017-05-30', 22.2),\n",
       " ('2017-05-31', 23.9),\n",
       " ('2017-06-01', 26.7),\n",
       " ('2017-06-02', 24.4),\n",
       " ('2017-06-03', 24.4),\n",
       " ('2017-06-04', 25.0),\n",
       " ('2017-06-05', 23.9),\n",
       " ('2017-06-06', 23.9),\n",
       " ('2017-06-07', 23.9),\n",
       " ('2017-06-08', 23.9),\n",
       " ('2017-06-09', 22.2),\n",
       " ('2017-06-10', 23.3),\n",
       " ('2017-06-11', 23.3),\n",
       " ('2017-06-12', 23.3),\n",
       " ('2017-06-13', 24.4),\n",
       " ('2017-06-14', 23.3),\n",
       " ('2017-06-15', 23.9),\n",
       " ('2017-06-16', 22.8),\n",
       " ('2017-06-17', 26.1),\n",
       " ('2017-06-18', 23.9),\n",
       " ('2017-06-19', 22.2),\n",
       " ('2017-06-20', 22.2),\n",
       " ('2017-06-21', 23.3),\n",
       " ('2017-06-22', 22.2),\n",
       " ('2017-06-23', 22.2),\n",
       " ('2017-06-24', 25.0),\n",
       " ('2017-06-25', 21.7),\n",
       " ('2017-06-26', 22.8),\n",
       " ('2017-06-27', 24.4),\n",
       " ('2017-06-28', 25.0),\n",
       " ('2017-06-29', 24.4),\n",
       " ('2017-06-30', 24.4),\n",
       " ('2017-07-01', 26.1),\n",
       " ('2017-07-02', 27.2),\n",
       " ('2017-07-03', 24.4),\n",
       " ('2017-07-04', 25.6),\n",
       " ('2017-07-05', 25.0),\n",
       " ('2017-07-06', 23.3),\n",
       " ('2017-07-07', 23.9),\n",
       " ('2017-07-08', 25.6),\n",
       " ('2017-07-09', 25.6),\n",
       " ('2017-07-10', 20.6),\n",
       " ('2017-07-11', 22.2),\n",
       " ('2017-07-12', 23.3),\n",
       " ('2017-07-13', 23.3),\n",
       " ('2017-07-14', 24.4),\n",
       " ('2017-07-15', 26.7),\n",
       " ('2017-07-16', 26.7),\n",
       " ('2017-07-17', 24.4),\n",
       " ('2017-07-18', 24.4),\n",
       " ('2017-07-19', 24.4),\n",
       " ('2017-07-20', 25.0),\n",
       " ('2017-07-21', 25.0),\n",
       " ('2017-07-22', 25.0),\n",
       " ('2017-07-23', 27.8),\n",
       " ('2017-07-24', 23.9),\n",
       " ('2017-07-25', 25.0),\n",
       " ('2017-07-26', 23.9),\n",
       " ('2017-07-27', 24.4),\n",
       " ('2017-07-28', 27.2),\n",
       " ('2017-07-29', 27.8),\n",
       " ('2017-07-30', 27.2),\n",
       " ('2017-07-31', 24.4),\n",
       " ('2017-08-04', 25.0),\n",
       " ('2017-08-05', 27.8),\n",
       " ('2017-08-06', 28.3),\n",
       " ('2017-08-13', 25.0),\n",
       " ('2017-08-14', 25.0),\n",
       " ('2017-08-15', 25.0),\n",
       " ('2017-08-16', 24.4),\n",
       " ('2017-08-17', 24.4),\n",
       " ('2017-08-18', 26.1)]"
      ]
     },
     "execution_count": 36,
     "metadata": {},
     "output_type": "execute_result"
    }
   ],
   "source": [
    "# Using the most active station id\n",
    "# Query the last 12 months of temperature observation data for this station and plot the results as a histogram\n",
    "last_year_temps = session.query(Measurement.date, Measurement.tobs)\\\n",
    "                        .filter(Measurement.station == most_active_station)\\\n",
    "                        .filter(Measurement.date >= '2016-08-23').all()\n",
    "last_year_temps"
   ]
  },
  {
   "cell_type": "code",
   "execution_count": 37,
   "metadata": {},
   "outputs": [
    {
     "data": {
      "text/html": [
       "<div>\n",
       "<style scoped>\n",
       "    .dataframe tbody tr th:only-of-type {\n",
       "        vertical-align: middle;\n",
       "    }\n",
       "\n",
       "    .dataframe tbody tr th {\n",
       "        vertical-align: top;\n",
       "    }\n",
       "\n",
       "    .dataframe thead th {\n",
       "        text-align: right;\n",
       "    }\n",
       "</style>\n",
       "<table border=\"1\" class=\"dataframe\">\n",
       "  <thead>\n",
       "    <tr style=\"text-align: right;\">\n",
       "      <th></th>\n",
       "      <th>date</th>\n",
       "      <th>tobs</th>\n",
       "    </tr>\n",
       "  </thead>\n",
       "  <tbody>\n",
       "    <tr>\n",
       "      <th>0</th>\n",
       "      <td>2016-08-23</td>\n",
       "      <td>25.0</td>\n",
       "    </tr>\n",
       "    <tr>\n",
       "      <th>1</th>\n",
       "      <td>2016-08-24</td>\n",
       "      <td>25.0</td>\n",
       "    </tr>\n",
       "    <tr>\n",
       "      <th>2</th>\n",
       "      <td>2016-08-25</td>\n",
       "      <td>26.7</td>\n",
       "    </tr>\n",
       "    <tr>\n",
       "      <th>3</th>\n",
       "      <td>2016-08-26</td>\n",
       "      <td>26.7</td>\n",
       "    </tr>\n",
       "    <tr>\n",
       "      <th>4</th>\n",
       "      <td>2016-08-27</td>\n",
       "      <td>23.9</td>\n",
       "    </tr>\n",
       "    <tr>\n",
       "      <th>...</th>\n",
       "      <td>...</td>\n",
       "      <td>...</td>\n",
       "    </tr>\n",
       "    <tr>\n",
       "      <th>347</th>\n",
       "      <td>2017-08-14</td>\n",
       "      <td>25.0</td>\n",
       "    </tr>\n",
       "    <tr>\n",
       "      <th>348</th>\n",
       "      <td>2017-08-15</td>\n",
       "      <td>25.0</td>\n",
       "    </tr>\n",
       "    <tr>\n",
       "      <th>349</th>\n",
       "      <td>2017-08-16</td>\n",
       "      <td>24.4</td>\n",
       "    </tr>\n",
       "    <tr>\n",
       "      <th>350</th>\n",
       "      <td>2017-08-17</td>\n",
       "      <td>24.4</td>\n",
       "    </tr>\n",
       "    <tr>\n",
       "      <th>351</th>\n",
       "      <td>2017-08-18</td>\n",
       "      <td>26.1</td>\n",
       "    </tr>\n",
       "  </tbody>\n",
       "</table>\n",
       "<p>352 rows × 2 columns</p>\n",
       "</div>"
      ],
      "text/plain": [
       "           date  tobs\n",
       "0    2016-08-23  25.0\n",
       "1    2016-08-24  25.0\n",
       "2    2016-08-25  26.7\n",
       "3    2016-08-26  26.7\n",
       "4    2016-08-27  23.9\n",
       "..          ...   ...\n",
       "347  2017-08-14  25.0\n",
       "348  2017-08-15  25.0\n",
       "349  2017-08-16  24.4\n",
       "350  2017-08-17  24.4\n",
       "351  2017-08-18  26.1\n",
       "\n",
       "[352 rows x 2 columns]"
      ]
     },
     "execution_count": 37,
     "metadata": {},
     "output_type": "execute_result"
    }
   ],
   "source": [
    "df_last_year_temps = pd.DataFrame(last_year_temps, columns=['date', 'tobs'])\n",
    "df_last_year_temps"
   ]
  },
  {
   "cell_type": "code",
   "execution_count": 39,
   "metadata": {},
   "outputs": [
    {
     "data": {
      "image/png": "[encoded data removed]",
      "text/plain": [
       "<Figure size 1000x500 with 1 Axes>"
      ]
     },
     "metadata": {},
     "output_type": "display_data"
    }
   ],
   "source": [
    "df_last_year_temps['tobs'].plot(kind='hist', bins=12, title='Temperature Observations Over the Last Year', figsize=(10, 5))\n",
    "plt.xlabel('Temperature')\n",
    "plt.ylabel('Frequency')\n",
    "plt.tight_layout()\n",
    "plt.show()"
   ]
  },
  {
   "cell_type": "code",
   "execution_count": null,
   "metadata": {},
   "outputs": [],
   "source": []
  },
  {
   "cell_type": "markdown",
   "metadata": {},
   "source": [
    "# Close Session"
   ]
  },
  {
   "cell_type": "code",
   "execution_count": 16,
   "metadata": {},
   "outputs": [],
   "source": [
    "# Close Session\n",
    "session.close()\n"
   ]
  },
  {
   "cell_type": "code",
   "execution_count": 2,
   "metadata": {},
   "outputs": [
    {
     "name": "stdout",
     "output_type": "stream",
     "text": [
      " * Serving Flask app '__main__'\n",
      " * Debug mode: off\n"
     ]
    },
    {
     "name": "stderr",
     "output_type": "stream",
     "text": [
      "WARNING: This is a development server. Do not use it in a production deployment. Use a production WSGI server instead.\n",
      " * Running on http://127.0.0.1:5000\n",
      "Press CTRL+C to quit\n",
      "127.0.0.1 - - [05/Aug/2024 14:18:57] \"GET / HTTP/1.1\" 200 -\n",
      "127.0.0.1 - - [05/Aug/2024 14:19:52] \"GET /api/v1.0// HTTP/1.1\" 404 -\n"
     ]
    }
   ],
   "source": [
    "# Import the dependencies.\n",
    "%matplotlib inline\n",
    "from matplotlib import style\n",
    "style.use('fivethirtyeight')\n",
    "import matplotlib.pyplot as plt\n",
    "\n",
    "import numpy as np\n",
    "import pandas as pd\n",
    "import datetime as dt\n",
    "\n",
    "\n",
    "#################################################\n",
    "# Database Setup\n",
    "#################################################\n",
    "\n",
    "# Create engine using the `hawaii.sqlite` database file\n",
    "# Python SQL toolkit and Object Relational Mapper\n",
    "import sqlalchemy\n",
    "from sqlalchemy.ext.automap import automap_base\n",
    "from sqlalchemy.orm import Session\n",
    "from sqlalchemy import create_engine, func\n",
    "\n",
    "engine = create_engine(\"sqlite:///Resources/hawaii.sqlite\")\n",
    "\n",
    "# Declare a Base using `automap_base()`\n",
    "Base = automap_base()\n",
    "Base.prepare(engine, reflect=True)\n",
    "# Use the Base class to reflect the database tables\n",
    "# Assign the measurement class to a variable called `Measurement` and\n",
    "# the station class to a variable called `Station`\n",
    "Station = Base.classes.station\n",
    "\n",
    "Measurement = Base.classes.measurement\n",
    "\n",
    "\n",
    "# Create a session\n",
    "\n",
    "session = Session(engine)\n",
    "#################################################\n",
    "# Flask Setup\n",
    "#################################################\n",
    "from flask import Flask, jsonify\n",
    "\n",
    "app = Flask(__name__)\n",
    "\n",
    "# Flask Routes\n",
    "#################################################\n",
    "\n",
    "@app.route(\"/\")\n",
    "def welcome():\n",
    "    return (\n",
    "        f\"Welcome to the Climate API!<br/>\"\n",
    "        f\"Available Routes:<br/>\"\n",
    "        f\"/api/v1.0/precipitation<br/>\"\n",
    "        f\"/api/v1.0/stations<br/>\"\n",
    "        f\"/api/v1.0/tobs<br/>\"\n",
    "        f\"/api/v1.0/<start><br/>\"\n",
    "        f\"/api/v1.0/<start>/<end><br/>\"\n",
    "    )\n",
    "\n",
    "#Route to the precep\n",
    "@app.route(\"/api/v1.0/precipitation\")\n",
    "def precipitation():\n",
    "    # Quering precipitation data for last year\n",
    "    precip_data = session.query(Measurement.date, Measurement.prcp).filter(Measurement.date >= '2016-08-23').all()\n",
    "    \n",
    "    # Creating a dictionary from the data\n",
    "    precip_dict = {date: prcp for date, prcp in precip_data}\n",
    "    \n",
    "    return jsonify(precip_dict)\n",
    "\n",
    "@app.route(\"/api/v1.0/stations\")\n",
    "def stations():\n",
    "    # Quering all stations\n",
    "    stations = session.query(Station.station).all()\n",
    "    \n",
    "    # Convert list of tuples into a normal list\n",
    "    stations_list = list(np.ravel(stations))\n",
    "    \n",
    "    return jsonify(stations_list)\n",
    "\n",
    "\n",
    "# route for the most active station.\n",
    "@app.route(\"/api/v1.0/tobs\")\n",
    "def tobs():\n",
    "    # Quering the dates and temperature observations of the most active station for the last year\n",
    "    tobs_data = session.query(Measurement.date, Measurement.tobs).filter(Measurement.station == 'USC00519281').filter(Measurement.date >= '2016-08-23').all()\n",
    "    \n",
    "    # Convert list of tuples into a normal list\n",
    "    tobs_list = list(np.ravel(tobs_data))\n",
    "    \n",
    "    return jsonify(tobs_list)\n",
    "\n",
    "\n",
    "# route for the start and end.\n",
    "@app.route(\"/api/v1.0/<start>\")\n",
    "@app.route(\"/api/v1.0/<start>/<end>\")\n",
    "def start_end(start=None, end=None):\n",
    "    # Query to calculate TMIN, TAVG, and TMAX for dates\n",
    "    if not end:\n",
    "        temp_stats = session.query(func.min(Measurement.tobs), func.avg(Measurement.tobs), func.max(Measurement.tobs)).filter(Measurement.date >= start).all()\n",
    "    else:\n",
    "        temp_stats = session.query(func.min(Measurement.tobs), func.avg(Measurement.tobs), func.max(Measurement.tobs)).filter(Measurement.date >= start).filter(Measurement.date <= end).all()\n",
    "    \n",
    "    # Converting list of tuples into a normal list\n",
    "    temp_stats_list = list(np.ravel(temp_stats))\n",
    "    \n",
    "    return jsonify(temp_stats_list)\n",
    "\n",
    "\n",
    "\n",
    "\n",
    "if __name__ ==\"__main__\":\n",
    "    app.run(debug=False)\n"
   ]
  },
  {
   "cell_type": "code",
   "execution_count": null,
   "metadata": {},
   "outputs": [],
   "source": []
  }
 ],
 "metadata": {
  "anaconda-cloud": {},
  "kernel_info": {
   "name": "python3"
  },
  "kernelspec": {
   "display_name": "Python 3 (ipykernel)",
   "language": "python",
   "name": "python3"
  },
  "language_info": {
   "codemirror_mode": {
    "name": "ipython",
    "version": 3
   },
   "file_extension": ".py",
   "mimetype": "text/x-python",
   "name": "python",
   "nbconvert_exporter": "python",
   "pygments_lexer": "ipython3",
   "version": "3.11.5"
  },
  "nteract": {
   "version": "0.12.3"
  },
  "varInspector": {
   "cols": {
    "lenName": 16,
    "lenType": 16,
    "lenVar": 40
   },
   "kernels_config": {
    "python": {
     "delete_cmd_postfix": "",
     "delete_cmd_prefix": "del ",
     "library": "var_list.py",
     "varRefreshCmd": "print(var_dic_list())"
    },
    "r": {
     "delete_cmd_postfix": ") ",
     "delete_cmd_prefix": "rm(",
     "library": "var_list.r",
     "varRefreshCmd": "cat(var_dic_list()) "
    }
   },
   "types_to_exclude": [
    "module",
    "function",
    "builtin_function_or_method",
    "instance",
    "_Feature"
   ],
   "window_display": false
  }
 },
 "nbformat": 4,
 "nbformat_minor": 4
}
